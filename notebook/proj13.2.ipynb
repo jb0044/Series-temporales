{
 "cells": [
  {
   "cell_type": "markdown",
   "metadata": {},
   "source": [
    "¡Hola!\n",
    "\n",
    "Mi nombre es Tonatiuh Cruz. Me complace revisar tu proyecto hoy.\n",
    "\n",
    "Al identificar cualquier error inicialmente, simplemente los destacaré. Te animo a localizar y abordar los problemas de forma independiente como parte de tu preparación para un rol como data-scientist. En un entorno profesional, tu líder de equipo seguiría un enfoque similar. Si encuentras la tarea desafiante, proporcionaré una pista más específica en la próxima iteración.\n",
    "\n",
    "Encontrarás mis comentarios a continuación - **por favor no los muevas, modifiques o elimines**.\n",
    "\n",
    "Puedes encontrar mis comentarios en cajas verdes, amarillas o rojas como esta:\n",
    "\n",
    "<div class=\"alert alert-block alert-success\">\n",
    "<b>Comentario del revisor</b> <a class=\"tocSkip\"></a>\n",
    "\n",
    "Éxito. Todo está hecho correctamente.\n",
    "</div>\n",
    "\n",
    "<div class=\"alert alert-block alert-warning\">\n",
    "<b>Comentario del revisor</b> <a class=\"tocSkip\"></a>\n",
    "\n",
    "Observaciones. Algunas recomendaciones.\n",
    "</div>\n",
    "\n",
    "<div class=\"alert alert-block alert-danger\">\n",
    "<b>Comentario del revisor</b> <a class=\"tocSkip\"></a>\n",
    "\n",
    "Necesita corrección. El bloque requiere algunas correcciones. El trabajo no puede ser aceptado con comentarios en rojo.\n",
    "</div>\n",
    "\n",
    "Puedes responderme utilizando esto:\n",
    "\n",
    "<div class=\"alert alert-block alert-info\">\n",
    "<b>Respuesta del estudiante.</b> <a class=\"tocSkip\"></a>\n",
    "</div>"
   ]
  },
  {
   "cell_type": "markdown",
   "metadata": {},
   "source": [
    "# Descripción del proyecto\n",
    "\n",
    "La compañía Sweet Lift Taxi ha recopilado datos históricos sobre pedidos de taxis en los aeropuertos. Para atraer a más conductores durante las horas pico, necesitamos predecir la cantidad de pedidos de taxis para la próxima hora. Construye un modelo para dicha predicción.\n",
    "\n",
    "La métrica RECM en el conjunto de prueba no debe ser superior a 48.\n",
    "\n",
    "## Instrucciones del proyecto.\n",
    "\n",
    "1. Descarga los datos y haz el remuestreo por una hora.\n",
    "2. Analiza los datos\n",
    "3. Entrena diferentes modelos con diferentes hiperparámetros. La muestra de prueba debe ser el 10% del conjunto de datos inicial.4. Prueba los datos usando la muestra de prueba y proporciona una conclusión.\n",
    "\n",
    "## Descripción de los datos\n",
    "\n",
    "Los datos se almacenan en el archivo `taxi.csv`. \t\n",
    "El número de pedidos está en la columna `num_orders`."
   ]
  },
  {
   "cell_type": "markdown",
   "metadata": {},
   "source": [
    "1. Descarga los datos y haz el remuestreo por una hora."
   ]
  },
  {
   "cell_type": "code",
   "execution_count": 1,
   "metadata": {},
   "outputs": [],
   "source": [
    "import pandas as pd\n",
    "import numpy as np\n",
    "import lightgbm as lgb\n",
    "import time\n",
    "from sklearn.model_selection import GridSearchCV\n",
    "import matplotlib.pyplot as plt \n",
    "from sklearn.model_selection import train_test_split\n",
    "from sklearn.linear_model import LinearRegression\n",
    "from sklearn.metrics import r2_score\n",
    "from sklearn.metrics import mean_squared_error\n",
    "from sklearn.tree import DecisionTreeRegressor\n",
    "from sklearn.ensemble import RandomForestRegressor\n",
    "from statsmodels.tsa.seasonal import seasonal_decompose\n"
   ]
  },
  {
   "cell_type": "code",
   "execution_count": 2,
   "metadata": {},
   "outputs": [],
   "source": [
    "#Cargar los datos y se eliminan espacios en los nombres de columnas\n",
    "data = pd.read_csv('/datasets/taxi.csv')\n",
    "\n",
    "#Asegurar que no hay espacios en los nombres de las columnas\n",
    "data.columns = data.columns.str.strip()  "
   ]
  },
  {
   "cell_type": "code",
   "execution_count": 3,
   "metadata": {},
   "outputs": [
    {
     "name": "stdout",
     "output_type": "stream",
     "text": [
      "<class 'pandas.core.frame.DataFrame'>\n",
      "RangeIndex: 26496 entries, 0 to 26495\n",
      "Data columns (total 2 columns):\n",
      " #   Column      Non-Null Count  Dtype \n",
      "---  ------      --------------  ----- \n",
      " 0   datetime    26496 non-null  object\n",
      " 1   num_orders  26496 non-null  int64 \n",
      "dtypes: int64(1), object(1)\n",
      "memory usage: 414.1+ KB\n"
     ]
    }
   ],
   "source": [
    "data.info()"
   ]
  },
  {
   "cell_type": "code",
   "execution_count": 4,
   "metadata": {},
   "outputs": [],
   "source": [
    "#Se convierte la columna tipo 'datetime' a tipo datetime y se establece como índice\n",
    "data['datetime'] = pd.to_datetime(data['datetime'])\n",
    "\n",
    "#Establecer 'datetime' como índice del DataFrame\n",
    "data.set_index('datetime', inplace=True)\n"
   ]
  },
  {
   "cell_type": "code",
   "execution_count": 5,
   "metadata": {},
   "outputs": [
    {
     "data": {
      "text/html": [
       "<div>\n",
       "<style scoped>\n",
       "    .dataframe tbody tr th:only-of-type {\n",
       "        vertical-align: middle;\n",
       "    }\n",
       "\n",
       "    .dataframe tbody tr th {\n",
       "        vertical-align: top;\n",
       "    }\n",
       "\n",
       "    .dataframe thead th {\n",
       "        text-align: right;\n",
       "    }\n",
       "</style>\n",
       "<table border=\"1\" class=\"dataframe\">\n",
       "  <thead>\n",
       "    <tr style=\"text-align: right;\">\n",
       "      <th></th>\n",
       "      <th>num_orders</th>\n",
       "    </tr>\n",
       "    <tr>\n",
       "      <th>datetime</th>\n",
       "      <th></th>\n",
       "    </tr>\n",
       "  </thead>\n",
       "  <tbody>\n",
       "    <tr>\n",
       "      <th>2018-03-01 00:00:00</th>\n",
       "      <td>124</td>\n",
       "    </tr>\n",
       "    <tr>\n",
       "      <th>2018-03-01 01:00:00</th>\n",
       "      <td>85</td>\n",
       "    </tr>\n",
       "    <tr>\n",
       "      <th>2018-03-01 02:00:00</th>\n",
       "      <td>71</td>\n",
       "    </tr>\n",
       "    <tr>\n",
       "      <th>2018-03-01 03:00:00</th>\n",
       "      <td>66</td>\n",
       "    </tr>\n",
       "    <tr>\n",
       "      <th>2018-03-01 04:00:00</th>\n",
       "      <td>43</td>\n",
       "    </tr>\n",
       "  </tbody>\n",
       "</table>\n",
       "</div>"
      ],
      "text/plain": [
       "                     num_orders\n",
       "datetime                       \n",
       "2018-03-01 00:00:00         124\n",
       "2018-03-01 01:00:00          85\n",
       "2018-03-01 02:00:00          71\n",
       "2018-03-01 03:00:00          66\n",
       "2018-03-01 04:00:00          43"
      ]
     },
     "execution_count": 5,
     "metadata": {},
     "output_type": "execute_result"
    }
   ],
   "source": [
    "#Remuestreo por una hora\n",
    "data_hourly = data.resample('H').sum()\n",
    "\n",
    "#Se observan los datos transformados por hora\n",
    "data_hourly.head()"
   ]
  },
  {
   "cell_type": "markdown",
   "metadata": {},
   "source": [
    "<div class=\"alert alert-block alert-success\">\n",
    "<b>Comentario del revisor</b> <a class=\"tocSkip\"></a>\n",
    "\n",
    "Buen trabajo transformado la columna datetime para agrupar el número de órdenes por hora. \n",
    "</div>"
   ]
  },
  {
   "cell_type": "markdown",
   "metadata": {},
   "source": [
    "## Descripción de los datos\n",
    "\n",
    "Los datos se almacenan en el archivo `taxi.csv`. \t\n",
    "El número de pedidos está en la columna `num_orders`."
   ]
  },
  {
   "cell_type": "code",
   "execution_count": 6,
   "metadata": {},
   "outputs": [
    {
     "name": "stdout",
     "output_type": "stream",
     "text": [
      "        num_orders\n",
      "count  4416.000000\n",
      "mean     84.422781\n",
      "std      45.023853\n",
      "min       0.000000\n",
      "25%      54.000000\n",
      "50%      78.000000\n",
      "75%     107.000000\n",
      "max     462.000000\n"
     ]
    },
    {
     "data": {
      "text/plain": [
       "<AxesSubplot:>"
      ]
     },
     "execution_count": 6,
     "metadata": {},
     "output_type": "execute_result"
    },
    {
     "data": {
      "image/png": "[encoded data removed]",
      "text/plain": [
       "<Figure size 640x480 with 1 Axes>"
      ]
     },
     "metadata": {},
     "output_type": "display_data"
    }
   ],
   "source": [
    "#Descripción de los datos\n",
    "print(data_hourly.describe())\n",
    "\n",
    "#Gráfico de la distribución\n",
    "data_hourly['num_orders'].hist()"
   ]
  },
  {
   "cell_type": "markdown",
   "metadata": {},
   "source": [
    "## Preparación"
   ]
  },
  {
   "cell_type": "code",
   "execution_count": 7,
   "metadata": {},
   "outputs": [],
   "source": [
    "def make_features(data, rolling_mean_size=10):\n",
    "    df = data.copy()\n",
    "    df['month'] = df.index.month\n",
    "    df['day'] = df.index.day\n",
    "    df['dayofweek_num'] = df.index.dayofweek\n",
    "    df['hour'] = df.index.hour\n",
    "        \n",
    "    df['rolling_mean'] = df['num_orders'].shift().rolling(rolling_mean_size).mean()\n",
    "    return df\n",
    "\n",
    "data_with_features = make_features(data_hourly)"
   ]
  },
  {
   "cell_type": "code",
   "execution_count": 8,
   "metadata": {},
   "outputs": [],
   "source": [
    "#Separación de características y etiquetas\n",
    "X = data_with_features.drop('num_orders', axis=1)\n",
    "y = data_with_features['num_orders']\n"
   ]
  },
  {
   "cell_type": "code",
   "execution_count": 9,
   "metadata": {},
   "outputs": [
    {
     "name": "stdout",
     "output_type": "stream",
     "text": [
      "Tamaño del conjunto de entrenamiento: 3974\n",
      "Tamaño del conjunto de validación: 397\n",
      "Tamaño del conjunto de prueba: 45\n"
     ]
    }
   ],
   "source": [
    "#División inicial en entrenamiento y prueba (10% para prueba)\n",
    "X_train, X_temp, y_train, y_temp = train_test_split(X, y, test_size=0.1, random_state=42)\n",
    "\n",
    "#División de entrenamiento y validación (10% para validación de los datos restantes)\n",
    "X_test, X_val, y_test, y_val = train_test_split(X_temp, y_temp, test_size=0.1, random_state=42)\n",
    "\n",
    "# Verificar los tamaños de los conjuntos\n",
    "print(f\"Tamaño del conjunto de entrenamiento: {X_train.shape[0]}\")\n",
    "print(f\"Tamaño del conjunto de validación: {X_test.shape[0]}\")\n",
    "print(f\"Tamaño del conjunto de prueba: {X_val.shape[0]}\")"
   ]
  },
  {
   "cell_type": "code",
   "execution_count": 10,
   "metadata": {},
   "outputs": [],
   "source": [
    "X_train = X_train.fillna(0)\n",
    "X_test = X_test.fillna(0)\n",
    "X_val = X_val.fillna(0)\n",
    "\n"
   ]
  },
  {
   "cell_type": "markdown",
   "metadata": {},
   "source": [
    "<div class=\"alert alert-block alert-warning\">\n",
    "<b>Comentario del revisor</b> <a class=\"tocSkip\"></a>\n",
    "\n",
    "Muy bien, ya cuentas con las tablas necesarias para el entrenamiento y prueba de los modelos. Mi única recomendación es que además crearas un conjunto de validación, el cual luego puedes usar para el ajuste de hiperparámetros. Después de asignar el 10% al conjunto de prueba, puedes asignar un 10% a los datos restantes al conjunto de validación y el resto al de entrenamiento.\n",
    "</div>"
   ]
  },
  {
   "cell_type": "markdown",
   "metadata": {},
   "source": [
    "## Análisis"
   ]
  },
  {
   "cell_type": "code",
   "execution_count": 11,
   "metadata": {},
   "outputs": [
    {
     "data": {
      "image/png": "[encoded data removed]",
      "text/plain": [
       "<Figure size 640x480 with 1 Axes>"
      ]
     },
     "metadata": {},
     "output_type": "display_data"
    },
    {
     "name": "stdout",
     "output_type": "stream",
     "text": [
      "            num_orders\n",
      "num_orders         1.0\n"
     ]
    }
   ],
   "source": [
    "# Análisis de tendencias con media móvil\n",
    "data_hourly['num_orders'].plot(label='Original', alpha=0.5)\n",
    "data_hourly['num_orders'].rolling(window=24).mean().plot(label='Media móvil (24 horas)', linewidth=2)\n",
    "\n",
    "# Configurar la gráfica\n",
    "plt.title('Tendencias en el número de pedidos')\n",
    "plt.xlabel('Fecha')\n",
    "plt.ylabel('Número de pedidos')\n",
    "plt.legend()\n",
    "plt.show()\n",
    "\n",
    "# Correlación\n",
    "correlation = data_hourly.corr()\n",
    "print(correlation)"
   ]
  },
  {
   "cell_type": "code",
   "execution_count": 12,
   "metadata": {},
   "outputs": [
    {
     "data": {
      "image/png": "[encoded data removed]",
      "text/plain": [
       "<Figure size 600x800 with 3 Axes>"
      ]
     },
     "metadata": {},
     "output_type": "display_data"
    }
   ],
   "source": [
    "data = data.resample('1H').sum()\n",
    "decomposed = seasonal_decompose(data)\n",
    "\n",
    "plt.figure(figsize=(6, 8))\n",
    "plt.subplot(311)\n",
    "decomposed.trend.plot(ax=plt.gca())\n",
    "plt.title('Trend')\n",
    "plt.subplot(312)\n",
    "decomposed.seasonal['1 March 2018'].plot(ax=plt.gca())\n",
    "plt.title('Seasonality')\n",
    "plt.subplot(313)\n",
    "decomposed.resid.plot(ax=plt.gca())\n",
    "plt.title('Residuals')\n",
    "plt.tight_layout()"
   ]
  },
  {
   "cell_type": "markdown",
   "metadata": {},
   "source": [
    "<div class=\"alert alert-block alert-success\">\n",
    "<b>Comentario del revisor</b> <a class=\"tocSkip\"></a>\n",
    "\n",
    "Muy buena visualización. Gracias a la media móvil, puedes identificar de mejor forma la tendencia, ya que esta maneja de manera más efectiva el ruido en el conjunto de datos.\n",
    "</div>"
   ]
  },
  {
   "cell_type": "markdown",
   "metadata": {},
   "source": [
    "<div class=\"alert alert-block alert-warning\">\n",
    "<b>Comentario del revisor</b> <a class=\"tocSkip\"></a>\n",
    "\n",
    "Excelentes gráficas. Al eliminar el ruido es posible observar claramente la tendencia de los datos y la estacionalidad también está bastante marcada. Mi única sugerencia para observar la estacionalidad diaria podrías usar la siguiente visualización:\n",
    "    \n",
    "    decomposed.seasonal['1 March 2018'].plot(ax=plt.gca())\n",
    "    plt.title('Seasonality')\n",
    "    \n",
    "Si bien el día 1 de marzo de 2018 es solo un ejemplo, puede servir para darse una idea general de los patrones repetitivos de los pedidos de taxi durante un día.\n",
    "</div>"
   ]
  },
  {
   "cell_type": "markdown",
   "metadata": {},
   "source": [
    "## Formación"
   ]
  },
  {
   "cell_type": "code",
   "execution_count": 13,
   "metadata": {},
   "outputs": [
    {
     "data": {
      "text/html": [
       "<div>\n",
       "<style scoped>\n",
       "    .dataframe tbody tr th:only-of-type {\n",
       "        vertical-align: middle;\n",
       "    }\n",
       "\n",
       "    .dataframe tbody tr th {\n",
       "        vertical-align: top;\n",
       "    }\n",
       "\n",
       "    .dataframe thead th {\n",
       "        text-align: right;\n",
       "    }\n",
       "</style>\n",
       "<table border=\"1\" class=\"dataframe\">\n",
       "  <thead>\n",
       "    <tr style=\"text-align: right;\">\n",
       "      <th></th>\n",
       "      <th>month</th>\n",
       "      <th>day</th>\n",
       "      <th>dayofweek_num</th>\n",
       "      <th>hour</th>\n",
       "      <th>rolling_mean</th>\n",
       "    </tr>\n",
       "    <tr>\n",
       "      <th>datetime</th>\n",
       "      <th></th>\n",
       "      <th></th>\n",
       "      <th></th>\n",
       "      <th></th>\n",
       "      <th></th>\n",
       "    </tr>\n",
       "  </thead>\n",
       "  <tbody>\n",
       "    <tr>\n",
       "      <th>2018-08-16 00:00:00</th>\n",
       "      <td>8</td>\n",
       "      <td>16</td>\n",
       "      <td>3</td>\n",
       "      <td>0</td>\n",
       "      <td>140.0</td>\n",
       "    </tr>\n",
       "    <tr>\n",
       "      <th>2018-07-31 23:00:00</th>\n",
       "      <td>7</td>\n",
       "      <td>31</td>\n",
       "      <td>1</td>\n",
       "      <td>23</td>\n",
       "      <td>92.4</td>\n",
       "    </tr>\n",
       "    <tr>\n",
       "      <th>2018-04-06 13:00:00</th>\n",
       "      <td>4</td>\n",
       "      <td>6</td>\n",
       "      <td>4</td>\n",
       "      <td>13</td>\n",
       "      <td>49.5</td>\n",
       "    </tr>\n",
       "    <tr>\n",
       "      <th>2018-04-21 07:00:00</th>\n",
       "      <td>4</td>\n",
       "      <td>21</td>\n",
       "      <td>5</td>\n",
       "      <td>7</td>\n",
       "      <td>97.4</td>\n",
       "    </tr>\n",
       "    <tr>\n",
       "      <th>2018-05-16 05:00:00</th>\n",
       "      <td>5</td>\n",
       "      <td>16</td>\n",
       "      <td>2</td>\n",
       "      <td>5</td>\n",
       "      <td>83.0</td>\n",
       "    </tr>\n",
       "    <tr>\n",
       "      <th>...</th>\n",
       "      <td>...</td>\n",
       "      <td>...</td>\n",
       "      <td>...</td>\n",
       "      <td>...</td>\n",
       "      <td>...</td>\n",
       "    </tr>\n",
       "    <tr>\n",
       "      <th>2018-07-22 12:00:00</th>\n",
       "      <td>7</td>\n",
       "      <td>22</td>\n",
       "      <td>6</td>\n",
       "      <td>12</td>\n",
       "      <td>78.1</td>\n",
       "    </tr>\n",
       "    <tr>\n",
       "      <th>2018-03-20 10:00:00</th>\n",
       "      <td>3</td>\n",
       "      <td>20</td>\n",
       "      <td>1</td>\n",
       "      <td>10</td>\n",
       "      <td>42.3</td>\n",
       "    </tr>\n",
       "    <tr>\n",
       "      <th>2018-07-07 20:00:00</th>\n",
       "      <td>7</td>\n",
       "      <td>7</td>\n",
       "      <td>5</td>\n",
       "      <td>20</td>\n",
       "      <td>82.1</td>\n",
       "    </tr>\n",
       "    <tr>\n",
       "      <th>2018-08-05 04:00:00</th>\n",
       "      <td>8</td>\n",
       "      <td>5</td>\n",
       "      <td>6</td>\n",
       "      <td>4</td>\n",
       "      <td>106.0</td>\n",
       "    </tr>\n",
       "    <tr>\n",
       "      <th>2018-04-05 20:00:00</th>\n",
       "      <td>4</td>\n",
       "      <td>5</td>\n",
       "      <td>3</td>\n",
       "      <td>20</td>\n",
       "      <td>52.9</td>\n",
       "    </tr>\n",
       "  </tbody>\n",
       "</table>\n",
       "<p>3974 rows × 5 columns</p>\n",
       "</div>"
      ],
      "text/plain": [
       "                     month  day  dayofweek_num  hour  rolling_mean\n",
       "datetime                                                          \n",
       "2018-08-16 00:00:00      8   16              3     0         140.0\n",
       "2018-07-31 23:00:00      7   31              1    23          92.4\n",
       "2018-04-06 13:00:00      4    6              4    13          49.5\n",
       "2018-04-21 07:00:00      4   21              5     7          97.4\n",
       "2018-05-16 05:00:00      5   16              2     5          83.0\n",
       "...                    ...  ...            ...   ...           ...\n",
       "2018-07-22 12:00:00      7   22              6    12          78.1\n",
       "2018-03-20 10:00:00      3   20              1    10          42.3\n",
       "2018-07-07 20:00:00      7    7              5    20          82.1\n",
       "2018-08-05 04:00:00      8    5              6     4         106.0\n",
       "2018-04-05 20:00:00      4    5              3    20          52.9\n",
       "\n",
       "[3974 rows x 5 columns]"
      ]
     },
     "execution_count": 13,
     "metadata": {},
     "output_type": "execute_result"
    }
   ],
   "source": [
    "X_train"
   ]
  },
  {
   "cell_type": "code",
   "execution_count": 14,
   "metadata": {},
   "outputs": [
    {
     "data": {
      "text/plain": [
       "datetime\n",
       "2018-08-16 00:00:00    202\n",
       "2018-07-31 23:00:00    125\n",
       "2018-04-06 13:00:00     44\n",
       "2018-04-21 07:00:00     24\n",
       "2018-05-16 05:00:00     14\n",
       "                      ... \n",
       "2018-07-22 12:00:00    148\n",
       "2018-03-20 10:00:00     58\n",
       "2018-07-07 20:00:00     76\n",
       "2018-08-05 04:00:00    122\n",
       "2018-04-05 20:00:00     61\n",
       "Name: num_orders, Length: 3974, dtype: int64"
      ]
     },
     "execution_count": 14,
     "metadata": {},
     "output_type": "execute_result"
    }
   ],
   "source": [
    "y_train"
   ]
  },
  {
   "cell_type": "code",
   "execution_count": 15,
   "metadata": {},
   "outputs": [
    {
     "data": {
      "text/plain": [
       "GridSearchCV(cv=5, estimator=RandomForestRegressor(),\n",
       "             param_grid={'max_depth': [None, 10, 20],\n",
       "                         'n_estimators': [100, 200, 300]},\n",
       "             scoring='neg_mean_squared_error')"
      ]
     },
     "execution_count": 15,
     "metadata": {},
     "output_type": "execute_result"
    }
   ],
   "source": [
    "#RandomForest\n",
    "model = RandomForestRegressor()\n",
    "param_grid = {\n",
    "    'n_estimators': [100, 200, 300],\n",
    "    'max_depth': [None, 10, 20],\n",
    "}\n",
    "\n",
    "grid_search = GridSearchCV(model, param_grid, cv=5, scoring='neg_mean_squared_error')\n",
    "grid_search.fit(X_train, y_train)"
   ]
  },
  {
   "cell_type": "code",
   "execution_count": 16,
   "metadata": {},
   "outputs": [
    {
     "data": {
      "text/plain": [
       "array([[  8. ,  16. ,   3. ,   0. , 140. ],\n",
       "       [  7. ,  31. ,   1. ,  23. ,  92.4],\n",
       "       [  4. ,   6. ,   4. ,  13. ,  49.5],\n",
       "       ...,\n",
       "       [  7. ,   7. ,   5. ,  20. ,  82.1],\n",
       "       [  8. ,   5. ,   6. ,   4. , 106. ],\n",
       "       [  4. ,   5. ,   3. ,  20. ,  52.9]])"
      ]
     },
     "execution_count": 16,
     "metadata": {},
     "output_type": "execute_result"
    }
   ],
   "source": [
    "X_train.values"
   ]
  },
  {
   "cell_type": "markdown",
   "metadata": {},
   "source": [
    "<div class=\"alert alert-block alert-danger\">\n",
    "<b>Comentario del revisor</b> <a class=\"tocSkip\"></a>\n",
    "\n",
    "Para solucionar el error te recomiendo verifica que en la svariables de X_train o y_train no están definidas correctamente o están vacías\n",
    "</div>\n"
   ]
  },
  {
   "cell_type": "markdown",
   "metadata": {},
   "source": [
    "## Prueba"
   ]
  },
  {
   "cell_type": "code",
   "execution_count": 17,
   "metadata": {},
   "outputs": [
    {
     "name": "stdout",
     "output_type": "stream",
     "text": [
      "RMSE: 22.586857704144908\n"
     ]
    }
   ],
   "source": [
    "\n",
    "#Predicción en el conjunto de prueba\n",
    "y_pred = grid_search.best_estimator_.predict(X_test)\n",
    "\n",
    "#Cálculo del RMSE\n",
    "rmse = np.sqrt(mean_squared_error(y_test, y_pred))\n",
    "print(f'RMSE: {rmse}')"
   ]
  },
  {
   "cell_type": "markdown",
   "metadata": {},
   "source": [
    "<div class=\"alert alert-block alert-danger\">\n",
    "<b>Comentario del revisor</b> <a class=\"tocSkip\"></a>\n",
    "\n",
    "Para solucionar el error te recomiendo verifica que en la svariables de X_train o y_train no están definidas correctamente o están vacías\n",
    "</div>"
   ]
  },
  {
   "cell_type": "markdown",
   "metadata": {},
   "source": [
    "# Lista de revisión"
   ]
  },
  {
   "cell_type": "markdown",
   "metadata": {},
   "source": [
    "- [x]  \t\n",
    "Jupyter Notebook está abierto.\n",
    "- [ ]  El código no tiene errores\n",
    "- [ ]  Las celdas con el código han sido colocadas en el orden de ejecución.\n",
    "- [ ]  \t\n",
    "Los datos han sido descargados y preparados.\n",
    "- [ ]  Se ha realizado el paso 2: los datos han sido analizados\n",
    "- [ ]  Se entrenó el modelo y se seleccionaron los hiperparámetros\n",
    "- [ ]  Se han evaluado los modelos. Se expuso una conclusión\n",
    "- [ ] La *RECM* para el conjunto de prueba no es más de 48"
   ]
  },
  {
   "cell_type": "markdown",
   "metadata": {},
   "source": [
    "<div class=\"alert alert-block alert-warning\">\n",
    "<b>Resumen de la revisión 1</b> <a class=\"tocSkip\"></a>\n",
    "\n",
    "Es muy buen trabajo, Jorge. Solo te dejé unas recomendaciones de la asignación de los datos a un conjunto de validación además del de prueba y entrenamiento y por último, una sugerencia para entender y ajustar el error de el random forest. Quedo pendiente de tus dudas y comentarios.\n",
    "</div>"
   ]
  }
 ],
 "metadata": {
  "ExecuteTimeLog": [
   {
    "duration": 2682,
    "start_time": "2024-08-28T22:29:25.361Z"
   },
   {
    "duration": 30,
    "start_time": "2024-08-28T22:30:39.705Z"
   },
   {
    "duration": 916,
    "start_time": "2024-08-28T22:30:50.557Z"
   },
   {
    "duration": 16,
    "start_time": "2024-08-28T22:30:51.475Z"
   },
   {
    "duration": 16,
    "start_time": "2024-08-28T22:33:48.280Z"
   },
   {
    "duration": 9,
    "start_time": "2024-08-28T22:35:36.761Z"
   },
   {
    "duration": 951,
    "start_time": "2024-08-28T22:42:01.118Z"
   },
   {
    "duration": 16,
    "start_time": "2024-08-28T22:42:02.071Z"
   },
   {
    "duration": 9,
    "start_time": "2024-08-28T22:42:02.089Z"
   },
   {
    "duration": 17,
    "start_time": "2024-08-28T22:42:02.100Z"
   },
   {
    "duration": 10,
    "start_time": "2024-08-28T22:42:02.119Z"
   },
   {
    "duration": 182,
    "start_time": "2024-08-28T22:54:05.402Z"
   },
   {
    "duration": 108,
    "start_time": "2024-08-28T22:54:10.468Z"
   },
   {
    "duration": 974,
    "start_time": "2024-08-28T22:54:30.522Z"
   },
   {
    "duration": 20,
    "start_time": "2024-08-28T22:54:31.498Z"
   },
   {
    "duration": 9,
    "start_time": "2024-08-28T22:54:31.521Z"
   },
   {
    "duration": 7,
    "start_time": "2024-08-28T22:54:31.532Z"
   },
   {
    "duration": 13,
    "start_time": "2024-08-28T22:54:31.542Z"
   },
   {
    "duration": 199,
    "start_time": "2024-08-28T22:54:31.557Z"
   },
   {
    "duration": 106,
    "start_time": "2024-08-28T22:55:18.164Z"
   },
   {
    "duration": 114,
    "start_time": "2024-08-28T22:55:27.612Z"
   },
   {
    "duration": 946,
    "start_time": "2024-08-28T22:59:22.916Z"
   },
   {
    "duration": 17,
    "start_time": "2024-08-28T22:59:23.864Z"
   },
   {
    "duration": 10,
    "start_time": "2024-08-28T22:59:23.883Z"
   },
   {
    "duration": 20,
    "start_time": "2024-08-28T22:59:23.894Z"
   },
   {
    "duration": 12,
    "start_time": "2024-08-28T22:59:23.916Z"
   },
   {
    "duration": 184,
    "start_time": "2024-08-28T22:59:23.929Z"
   },
   {
    "duration": 5,
    "start_time": "2024-08-28T22:59:24.115Z"
   },
   {
    "duration": 5,
    "start_time": "2024-08-28T22:59:24.121Z"
   },
   {
    "duration": 239,
    "start_time": "2024-08-28T23:04:58.041Z"
   },
   {
    "duration": 1019,
    "start_time": "2024-08-28T23:38:50.473Z"
   },
   {
    "duration": 24,
    "start_time": "2024-08-28T23:38:51.496Z"
   },
   {
    "duration": 10,
    "start_time": "2024-08-28T23:38:51.522Z"
   },
   {
    "duration": 9,
    "start_time": "2024-08-28T23:38:51.533Z"
   },
   {
    "duration": 12,
    "start_time": "2024-08-28T23:38:51.545Z"
   },
   {
    "duration": 215,
    "start_time": "2024-08-28T23:38:51.558Z"
   },
   {
    "duration": 5,
    "start_time": "2024-08-28T23:38:51.775Z"
   },
   {
    "duration": 5,
    "start_time": "2024-08-28T23:38:51.782Z"
   },
   {
    "duration": 272,
    "start_time": "2024-08-28T23:38:51.789Z"
   },
   {
    "duration": 596,
    "start_time": "2024-08-28T23:38:52.062Z"
   },
   {
    "duration": 0,
    "start_time": "2024-08-28T23:38:52.660Z"
   },
   {
    "duration": 920,
    "start_time": "2024-08-28T23:39:16.278Z"
   },
   {
    "duration": 22,
    "start_time": "2024-08-28T23:39:17.200Z"
   },
   {
    "duration": 10,
    "start_time": "2024-08-28T23:39:17.224Z"
   },
   {
    "duration": 8,
    "start_time": "2024-08-28T23:39:17.236Z"
   },
   {
    "duration": 11,
    "start_time": "2024-08-28T23:39:17.246Z"
   },
   {
    "duration": 206,
    "start_time": "2024-08-28T23:39:17.259Z"
   },
   {
    "duration": 5,
    "start_time": "2024-08-28T23:39:17.467Z"
   },
   {
    "duration": 6,
    "start_time": "2024-08-28T23:39:17.474Z"
   },
   {
    "duration": 254,
    "start_time": "2024-08-28T23:39:17.482Z"
   },
   {
    "duration": 584,
    "start_time": "2024-08-28T23:39:17.739Z"
   },
   {
    "duration": 0,
    "start_time": "2024-08-28T23:39:18.325Z"
   },
   {
    "duration": 131,
    "start_time": "2024-08-28T23:40:18.621Z"
   },
   {
    "duration": 2708,
    "start_time": "2024-09-02T23:01:07.365Z"
   },
   {
    "duration": 31,
    "start_time": "2024-09-02T23:01:10.076Z"
   },
   {
    "duration": 10,
    "start_time": "2024-09-02T23:01:10.108Z"
   },
   {
    "duration": 11,
    "start_time": "2024-09-02T23:01:10.120Z"
   },
   {
    "duration": 13,
    "start_time": "2024-09-02T23:01:10.133Z"
   },
   {
    "duration": 131,
    "start_time": "2024-09-02T23:01:10.148Z"
   },
   {
    "duration": 5,
    "start_time": "2024-09-02T23:01:10.281Z"
   },
   {
    "duration": 6,
    "start_time": "2024-09-02T23:01:10.287Z"
   },
   {
    "duration": 253,
    "start_time": "2024-09-02T23:01:10.295Z"
   },
   {
    "duration": 544,
    "start_time": "2024-09-02T23:01:10.551Z"
   },
   {
    "duration": 0,
    "start_time": "2024-09-02T23:01:11.097Z"
   },
   {
    "duration": 992,
    "start_time": "2024-09-03T00:39:46.355Z"
   },
   {
    "duration": 18,
    "start_time": "2024-09-03T00:39:47.349Z"
   },
   {
    "duration": 11,
    "start_time": "2024-09-03T00:39:47.369Z"
   },
   {
    "duration": 7,
    "start_time": "2024-09-03T00:39:47.383Z"
   },
   {
    "duration": 12,
    "start_time": "2024-09-03T00:39:47.392Z"
   },
   {
    "duration": 199,
    "start_time": "2024-09-03T00:39:47.406Z"
   },
   {
    "duration": 5,
    "start_time": "2024-09-03T00:39:47.607Z"
   },
   {
    "duration": 20,
    "start_time": "2024-09-03T00:39:47.614Z"
   },
   {
    "duration": 268,
    "start_time": "2024-09-03T00:39:47.636Z"
   },
   {
    "duration": 625,
    "start_time": "2024-09-03T00:39:47.907Z"
   },
   {
    "duration": 0,
    "start_time": "2024-09-03T00:39:48.534Z"
   },
   {
    "duration": 1065,
    "start_time": "2024-09-03T00:40:17.014Z"
   },
   {
    "duration": 17,
    "start_time": "2024-09-03T00:40:18.081Z"
   },
   {
    "duration": 9,
    "start_time": "2024-09-03T00:40:18.100Z"
   },
   {
    "duration": 29,
    "start_time": "2024-09-03T00:40:18.111Z"
   },
   {
    "duration": 16,
    "start_time": "2024-09-03T00:40:18.142Z"
   },
   {
    "duration": 223,
    "start_time": "2024-09-03T00:40:18.160Z"
   },
   {
    "duration": 5,
    "start_time": "2024-09-03T00:40:18.385Z"
   },
   {
    "duration": 7,
    "start_time": "2024-09-03T00:40:18.391Z"
   },
   {
    "duration": 309,
    "start_time": "2024-09-03T00:40:18.399Z"
   },
   {
    "duration": 667,
    "start_time": "2024-09-03T00:40:18.711Z"
   },
   {
    "duration": 0,
    "start_time": "2024-09-03T00:40:19.380Z"
   },
   {
    "duration": 998,
    "start_time": "2024-09-03T00:58:42.021Z"
   },
   {
    "duration": 31,
    "start_time": "2024-09-03T00:58:43.022Z"
   },
   {
    "duration": 64,
    "start_time": "2024-09-03T00:58:43.056Z"
   },
   {
    "duration": 14,
    "start_time": "2024-09-03T00:58:43.122Z"
   },
   {
    "duration": 15,
    "start_time": "2024-09-03T00:58:43.140Z"
   },
   {
    "duration": 164,
    "start_time": "2024-09-03T00:58:43.160Z"
   },
   {
    "duration": 20,
    "start_time": "2024-09-03T00:58:43.326Z"
   },
   {
    "duration": 8,
    "start_time": "2024-09-03T00:58:43.348Z"
   },
   {
    "duration": 6,
    "start_time": "2024-09-03T00:58:43.360Z"
   },
   {
    "duration": 285,
    "start_time": "2024-09-03T00:58:43.368Z"
   },
   {
    "duration": 343,
    "start_time": "2024-09-03T00:58:43.655Z"
   },
   {
    "duration": 0,
    "start_time": "2024-09-03T00:58:44.001Z"
   },
   {
    "duration": 0,
    "start_time": "2024-09-03T00:58:44.002Z"
   },
   {
    "duration": 7,
    "start_time": "2024-09-03T01:00:05.977Z"
   },
   {
    "duration": 1040,
    "start_time": "2024-09-03T01:01:30.814Z"
   },
   {
    "duration": 20,
    "start_time": "2024-09-03T01:01:31.860Z"
   },
   {
    "duration": 83,
    "start_time": "2024-09-03T01:01:31.881Z"
   },
   {
    "duration": 10,
    "start_time": "2024-09-03T01:01:31.967Z"
   },
   {
    "duration": 10,
    "start_time": "2024-09-03T01:01:31.979Z"
   },
   {
    "duration": 152,
    "start_time": "2024-09-03T01:01:31.991Z"
   },
   {
    "duration": 5,
    "start_time": "2024-09-03T01:01:32.155Z"
   },
   {
    "duration": 7,
    "start_time": "2024-09-03T01:01:32.163Z"
   },
   {
    "duration": 5,
    "start_time": "2024-09-03T01:01:32.172Z"
   },
   {
    "duration": 291,
    "start_time": "2024-09-03T01:01:32.181Z"
   },
   {
    "duration": 627,
    "start_time": "2024-09-03T01:01:32.474Z"
   },
   {
    "duration": 681,
    "start_time": "2024-09-03T01:01:33.103Z"
   },
   {
    "duration": 0,
    "start_time": "2024-09-03T01:01:33.786Z"
   },
   {
    "duration": 955,
    "start_time": "2024-09-03T01:12:17.484Z"
   },
   {
    "duration": 21,
    "start_time": "2024-09-03T01:12:18.442Z"
   },
   {
    "duration": 80,
    "start_time": "2024-09-03T01:12:18.465Z"
   },
   {
    "duration": 9,
    "start_time": "2024-09-03T01:12:18.547Z"
   },
   {
    "duration": 11,
    "start_time": "2024-09-03T01:12:18.559Z"
   },
   {
    "duration": 139,
    "start_time": "2024-09-03T01:12:18.572Z"
   },
   {
    "duration": 5,
    "start_time": "2024-09-03T01:12:18.713Z"
   },
   {
    "duration": 12,
    "start_time": "2024-09-03T01:12:18.719Z"
   },
   {
    "duration": 6,
    "start_time": "2024-09-03T01:12:18.732Z"
   },
   {
    "duration": 247,
    "start_time": "2024-09-03T01:12:18.741Z"
   },
   {
    "duration": 572,
    "start_time": "2024-09-03T01:12:18.990Z"
   },
   {
    "duration": 580,
    "start_time": "2024-09-03T01:12:19.564Z"
   },
   {
    "duration": 0,
    "start_time": "2024-09-03T01:12:20.147Z"
   },
   {
    "duration": 2760,
    "start_time": "2024-09-03T02:22:38.150Z"
   },
   {
    "duration": 31,
    "start_time": "2024-09-03T02:22:40.912Z"
   },
   {
    "duration": 11,
    "start_time": "2024-09-03T02:22:40.945Z"
   },
   {
    "duration": 8,
    "start_time": "2024-09-03T02:22:40.958Z"
   },
   {
    "duration": 13,
    "start_time": "2024-09-03T02:22:40.967Z"
   },
   {
    "duration": 139,
    "start_time": "2024-09-03T02:22:40.981Z"
   },
   {
    "duration": 4,
    "start_time": "2024-09-03T02:22:41.122Z"
   },
   {
    "duration": 6,
    "start_time": "2024-09-03T02:22:41.132Z"
   },
   {
    "duration": 6,
    "start_time": "2024-09-03T02:22:41.140Z"
   },
   {
    "duration": 315,
    "start_time": "2024-09-03T02:22:41.149Z"
   },
   {
    "duration": 535,
    "start_time": "2024-09-03T02:22:41.466Z"
   },
   {
    "duration": 589,
    "start_time": "2024-09-03T02:22:42.003Z"
   },
   {
    "duration": 0,
    "start_time": "2024-09-03T02:22:42.594Z"
   },
   {
    "duration": 474,
    "start_time": "2024-09-03T02:25:22.870Z"
   },
   {
    "duration": 12,
    "start_time": "2024-09-03T02:33:54.429Z"
   },
   {
    "duration": 9,
    "start_time": "2024-09-03T02:34:10.133Z"
   },
   {
    "duration": 3,
    "start_time": "2024-09-03T02:37:28.666Z"
   },
   {
    "duration": 3,
    "start_time": "2024-09-03T02:38:34.488Z"
   },
   {
    "duration": 7,
    "start_time": "2024-09-03T02:38:45.415Z"
   },
   {
    "duration": 3,
    "start_time": "2024-09-03T02:39:47.627Z"
   },
   {
    "duration": 8,
    "start_time": "2024-09-03T02:40:30.013Z"
   },
   {
    "duration": 12,
    "start_time": "2024-09-03T02:40:44.492Z"
   },
   {
    "duration": 8,
    "start_time": "2024-09-03T02:45:58.421Z"
   },
   {
    "duration": 7,
    "start_time": "2024-09-03T02:46:44.227Z"
   },
   {
    "duration": 11,
    "start_time": "2024-09-03T02:47:06.497Z"
   },
   {
    "duration": 4,
    "start_time": "2024-09-03T02:48:37.790Z"
   },
   {
    "duration": 6,
    "start_time": "2024-09-03T02:49:12.390Z"
   },
   {
    "duration": 218,
    "start_time": "2024-09-03T02:49:20.626Z"
   },
   {
    "duration": 498,
    "start_time": "2024-09-03T02:49:26.218Z"
   },
   {
    "duration": 94,
    "start_time": "2024-09-03T02:49:49.996Z"
   },
   {
    "duration": 8,
    "start_time": "2024-09-03T02:50:32.213Z"
   },
   {
    "duration": 10,
    "start_time": "2024-09-03T02:50:38.768Z"
   },
   {
    "duration": 5,
    "start_time": "2024-09-03T02:50:57.630Z"
   },
   {
    "duration": 249,
    "start_time": "2024-09-03T02:51:09.214Z"
   },
   {
    "duration": 2,
    "start_time": "2024-09-03T02:52:55.210Z"
   },
   {
    "duration": 16,
    "start_time": "2024-09-03T02:55:06.857Z"
   },
   {
    "duration": 3,
    "start_time": "2024-09-03T02:55:30.118Z"
   },
   {
    "duration": 4,
    "start_time": "2024-09-03T02:55:31.697Z"
   },
   {
    "duration": 46255,
    "start_time": "2024-09-03T02:56:27.214Z"
   },
   {
    "duration": 29,
    "start_time": "2024-09-03T02:57:13.471Z"
   },
   {
    "duration": 971,
    "start_time": "2024-09-03T03:06:15.351Z"
   },
   {
    "duration": 20,
    "start_time": "2024-09-03T03:06:16.324Z"
   },
   {
    "duration": 69,
    "start_time": "2024-09-03T03:06:16.345Z"
   },
   {
    "duration": 17,
    "start_time": "2024-09-03T03:06:16.416Z"
   },
   {
    "duration": 11,
    "start_time": "2024-09-03T03:06:16.436Z"
   },
   {
    "duration": 149,
    "start_time": "2024-09-03T03:06:16.448Z"
   },
   {
    "duration": 8,
    "start_time": "2024-09-03T03:06:16.600Z"
   },
   {
    "duration": 4,
    "start_time": "2024-09-03T03:06:16.610Z"
   },
   {
    "duration": 7,
    "start_time": "2024-09-03T03:06:16.631Z"
   },
   {
    "duration": 3,
    "start_time": "2024-09-03T03:06:16.640Z"
   },
   {
    "duration": 251,
    "start_time": "2024-09-03T03:06:16.645Z"
   },
   {
    "duration": 504,
    "start_time": "2024-09-03T03:06:16.898Z"
   },
   {
    "duration": 11,
    "start_time": "2024-09-03T03:06:17.403Z"
   },
   {
    "duration": 4,
    "start_time": "2024-09-03T03:06:17.417Z"
   },
   {
    "duration": 45540,
    "start_time": "2024-09-03T03:06:17.430Z"
   },
   {
    "duration": 4,
    "start_time": "2024-09-03T03:07:02.972Z"
   },
   {
    "duration": 19,
    "start_time": "2024-09-03T03:07:02.978Z"
   }
  ],
  "kernelspec": {
   "display_name": "Python 3 (ipykernel)",
   "language": "python",
   "name": "python3"
  },
  "language_info": {
   "codemirror_mode": {
    "name": "ipython",
    "version": 3
   },
   "file_extension": ".py",
   "mimetype": "text/x-python",
   "name": "python",
   "nbconvert_exporter": "python",
   "pygments_lexer": "ipython3",
   "version": "3.9.19"
  },
  "toc": {
   "base_numbering": 1,
   "nav_menu": {},
   "number_sections": true,
   "sideBar": true,
   "skip_h1_title": true,
   "title_cell": "Table of Contents",
   "title_sidebar": "Contents",
   "toc_cell": false,
   "toc_position": {},
   "toc_section_display": true,
   "toc_window_display": false
  }
 },
 "nbformat": 4,
 "nbformat_minor": 2
}
